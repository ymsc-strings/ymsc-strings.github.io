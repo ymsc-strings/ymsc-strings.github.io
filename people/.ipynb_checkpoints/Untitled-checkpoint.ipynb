{
 "cells": [
  {
   "cell_type": "code",
   "execution_count": 1,
   "metadata": {},
   "outputs": [],
   "source": [
    "import netket as nk\n",
    "import numpy as np\n",
    "import matplotlib.pyplot as plt\n",
    "import math\n",
    "import sys"
   ]
  },
  {
   "cell_type": "code",
   "execution_count": 2,
   "metadata": {},
   "outputs": [],
   "source": [
    "# Define the Hamiltonian\n",
    "N = 8\n",
    "g = nk.graph.Hypercube(length=N, n_dim=1, pbc=False)\n",
    "hi = nk.hilbert.Spin(g, s=0.5)\n",
    "ha = nk.operator.Ising(hi, h=1.0)"
   ]
  },
  {
   "cell_type": "code",
   "execution_count": 3,
   "metadata": {},
   "outputs": [
    {
     "name": "stdout",
     "output_type": "stream",
     "text": [
      "('Ground state energy =', -9.83795144745946)\n"
     ]
    }
   ],
   "source": [
    "# Obtain the ED wavefunction\n",
    "res = nk.exact.lanczos_ed(ha,first_n=1,compute_eigenvectors=True)\n",
    "psi = res.eigenvectors[0]\n",
    "print(\"Ground state energy =\", res.eigenvalues[0])"
   ]
  },
  {
   "cell_type": "code",
   "execution_count": 4,
   "metadata": {},
   "outputs": [],
   "source": [
    "def build_rotation(hi, basis):\n",
    "    localop = nk.operator.LocalOperator(hi, 1.0)\n",
    "    U_X = 1.0 / (math.sqrt(2)) * np.asarray([[1.0,1.0], [1.0,-1.0]])\n",
    "    U_Y = 1.0 / (math.sqrt(2)) * np.asarray([[1.0,-1j], [1.0, 1j]])\n",
    "    \n",
    "    N = hi.size\n",
    "    \n",
    "    assert len(basis) == hi.size\n",
    "    \n",
    "    for j in range(hi.size):\n",
    "        if basis[j] == \"X\":\n",
    "            localop *= nk.operator.LocalOperator(hi, U_X, [j])\n",
    "        if basis[j] == \"Y\":\n",
    "            localop *= nk.operator.LocalOperator(hi, U_Y, [j])\n",
    "    return localop"
   ]
  },
  {
   "cell_type": "code",
   "execution_count": 20,
   "metadata": {},
   "outputs": [
    {
     "name": "stdout",
     "output_type": "stream",
     "text": [
      "('Number of bases:', 16)\n",
      "('Number of shots:', 1000)\n",
      "('Total size o the dataset:', 16000)\n",
      "('Some single shot results: (sample, basis)\\n', [(array([ 1.,  1.,  1., -1.,  1., -1.,  1., -1.]),), (array([ 1.,  1., -1.,  1., -1.,  1., -1.,  1.]),), (array([-1.,  1., -1.,  1., -1.,  1., -1.,  1.]),)])\n"
     ]
    }
   ],
   "source": [
    "n_basis = 2*N\n",
    "n_shots = 1000\n",
    "\n",
    "rotations = []\n",
    "training_samples = []\n",
    "training_bases = []\n",
    "\n",
    "np.random.seed(1234)\n",
    "\n",
    "for m in range(n_basis):\n",
    "    basis = np.random.choice(\n",
    "        list(\"XYZ\"), size=N, p=[1.0 / N, 1.0 / N, (N - 2.0) / N]\n",
    "    )\n",
    "    \n",
    "    psi_rotated = np.copy(psi)\n",
    "    if 'X' in basis or 'Y' in basis:\n",
    "        rotation = build_rotation(hi, basis)\n",
    "        psi_rotated = rotation.to_sparse().dot(psi_rotated)\n",
    "    psi_square = np.square(np.absolute(psi_rotated))\n",
    "    \n",
    "    rand_n = np.random.choice(hi.n_states, p=psi_square, size=n_shots)\n",
    "    \n",
    "    for rn in rand_n:\n",
    "        training_samples.append(hi.number_to_state(rn))\n",
    "    training_bases += [m] * n_shots\n",
    "    \n",
    "    rotations.append(rotation)\n",
    "    \n",
    "print('Number of bases:', n_basis)\n",
    "print('Number of shots:', n_shots)\n",
    "print('Total size o the dataset:', n_basis*n_shots)\n",
    "print('Some single shot results: (sample, basis)\\n', list(zip(training_samples[:3])))"
   ]
  },
  {
   "cell_type": "code",
   "execution_count": 23,
   "metadata": {},
   "outputs": [
    {
     "data": {
      "text/plain": [
       "0"
      ]
     },
     "execution_count": 23,
     "metadata": {},
     "output_type": "execute_result"
    }
   ],
   "source": [
    "0"
   ]
  },
  {
   "cell_type": "code",
   "execution_count": 9,
   "metadata": {},
   "outputs": [
    {
     "data": {
      "text/plain": [
       "array([-1., -1., -1.,  1.,  1., -1.,  1.,  1.])"
      ]
     },
     "execution_count": 9,
     "metadata": {},
     "output_type": "execute_result"
    }
   ],
   "source": [
    "hi.number_to_state(27)"
   ]
  },
  {
   "cell_type": "code",
   "execution_count": 10,
   "metadata": {},
   "outputs": [
    {
     "data": {
      "text/plain": [
       "1000"
      ]
     },
     "execution_count": 10,
     "metadata": {},
     "output_type": "execute_result"
    }
   ],
   "source": [
    "len(rand_n)"
   ]
  },
  {
   "cell_type": "code",
   "execution_count": 11,
   "metadata": {},
   "outputs": [
    {
     "data": {
      "text/plain": [
       "[0, 1, 2, 3, 4, 5, 6, 7, 8, 9, 10, 11, 12, 13, 14, 15]"
      ]
     },
     "execution_count": 11,
     "metadata": {},
     "output_type": "execute_result"
    }
   ],
   "source": [
    "range(n_basis)"
   ]
  },
  {
   "cell_type": "code",
   "execution_count": 14,
   "metadata": {},
   "outputs": [
    {
     "data": {
      "text/plain": [
       "[0, 0, 0, 0, 0, 0, 0, 0, 0, 0]"
      ]
     },
     "execution_count": 14,
     "metadata": {},
     "output_type": "execute_result"
    }
   ],
   "source": [
    "[0]*10"
   ]
  },
  {
   "cell_type": "code",
   "execution_count": 19,
   "metadata": {},
   "outputs": [
    {
     "data": {
      "text/plain": [
       "0"
      ]
     },
     "execution_count": 19,
     "metadata": {},
     "output_type": "execute_result"
    }
   ],
   "source": [
    "0"
   ]
  },
  {
   "cell_type": "code",
   "execution_count": null,
   "metadata": {},
   "outputs": [],
   "source": []
  }
 ],
 "metadata": {
  "kernelspec": {
   "display_name": "py27",
   "language": "python",
   "name": "py27"
  },
  "language_info": {
   "codemirror_mode": {
    "name": "ipython",
    "version": 2
   },
   "file_extension": ".py",
   "mimetype": "text/x-python",
   "name": "python",
   "nbconvert_exporter": "python",
   "pygments_lexer": "ipython2",
   "version": "2.7.17"
  }
 },
 "nbformat": 4,
 "nbformat_minor": 2
}
